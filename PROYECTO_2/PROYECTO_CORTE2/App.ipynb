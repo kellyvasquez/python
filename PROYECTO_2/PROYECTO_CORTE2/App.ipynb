{
 "cells": [
  {
   "cell_type": "markdown",
   "metadata": {},
   "source": [
    "# PROYECTO PYTHON CORTE 2 - 2019-2\n",
    "## Integrantes\n",
    "### - Cristian Duran\n",
    "### - Kelly Fernanda Vasquez\n",
    "### - Luis Carlos Jordan"
   ]
  },
  {
   "cell_type": "markdown",
   "metadata": {},
   "source": [
    "## DECLARACIÓN DE VARIABLES Y DATOS PÚBLICOS"
   ]
  },
  {
   "cell_type": "code",
   "execution_count": 1,
   "metadata": {},
   "outputs": [],
   "source": [
    "# Librerias que utiliza este aplicativo FLASK.\n",
    "from flask import Flask, render_template, request, make_response, escape, url_for, redirect, flash, Response\n",
    "from flask_debug import Debug\n",
    "# Librerias que utiliza el Web scraper\n",
    "import requests\n",
    "import lxml.html as lh\n",
    "import pandas as pd\n",
    "from bs4 import BeautifulSoup\n",
    "import matplotlib.pyplot as plt\n",
    "from matplotlib.backends.backend_agg import FigureCanvasAgg as FigureCanvas\n",
    "import numpy as np\n",
    "import csv\n",
    "import mysql.connector as mariadb\n",
    "import hashlib\n",
    "# Libreria para convertir a imagen\n",
    "import io\n",
    "app = Flask(__name__)\n",
    "app.secret_key = '123456'\n",
    "\n",
    "csv_path = './static/futbol.csv'\n",
    "csv_obj = csv.DictReader(open(csv_path, 'r'))\n",
    "csv_list = list(csv_obj)\n",
    "\n",
    "url = 'https://resultados.as.com/resultados/futbol/primera_femenina/clasificacion/'\n",
    "\n",
    "def Conexion():\n",
    "    return mariadb.connect(host='localhost', port='3306', user='root', password='123456', database='proyecto_python2')"
   ]
  },
  {
   "cell_type": "markdown",
   "metadata": {},
   "source": [
    "## DECLARACIÓN DE RUTAS"
   ]
  },
  {
   "cell_type": "markdown",
   "metadata": {},
   "source": [
    "### INDEX - PÁGINA PRINCIPAL"
   ]
  },
  {
   "cell_type": "code",
   "execution_count": 2,
   "metadata": {},
   "outputs": [],
   "source": [
    "@app.route(\"/\")\n",
    "def index():\n",
    "    return render_template(\"index.php\")"
   ]
  },
  {
   "cell_type": "markdown",
   "metadata": {},
   "source": [
    "### FUNCIONES WEBSCRAPING"
   ]
  },
  {
   "cell_type": "code",
   "execution_count": 3,
   "metadata": {},
   "outputs": [],
   "source": [
    "@app.route(\"/webscraper\")\n",
    "def webscraper():\n",
    "    equipos = []\n",
    "    equipos = WebScraper()\n",
    "    partidos = []\n",
    "    partidos = WebScraper()\n",
    "    return render_template('datos_webscraper.php', nombre_equipos=equipos, partidos_jugados=partidos )\n",
    "\n",
    "def WebScraper():\n",
    "    page =requests.get(url)\n",
    "    soup = (BeautifulSoup(page.content, 'html.parser'))\n",
    "    \n",
    "    equipos = []\n",
    "    \n",
    "    equipos_futbol = soup.find_all('span', class_='nombre-equipo') \n",
    "    #equipos = list()\n",
    "    count = 0\n",
    "    for i in equipos_futbol:\n",
    "        if count < 6:\n",
    "            equipos.append(i.text)\n",
    "        else:\n",
    "            break\n",
    "        count += 1\n",
    "    print(equipos, len(equipos))\n",
    "    \n",
    "    partidos = []\n",
    "    \n",
    "     #Puntos por partidos jugados\n",
    "    partido = soup.find_all('td', class_='destacado') \n",
    "    #partidos = list()\n",
    "\n",
    "    count = 0\n",
    "    for i in partido:\n",
    "        if count < 6:\n",
    "           partidos.append(i.text)\n",
    "        else:\n",
    "            break\n",
    "        count += 1\n",
    "\n",
    "    #print(partidos, len(partidos))\n",
    "    \n",
    "    return equipos, partidos\n",
    "\n",
    "@app.route(\"/graficas_scraping\")\n",
    "def graficas_scraping():\n",
    "    return  render_template('graficas_scraping.php')  "
   ]
  },
  {
   "cell_type": "markdown",
   "metadata": {},
   "source": [
    "### FUNCIONES CVS"
   ]
  },
  {
   "cell_type": "code",
   "execution_count": null,
   "metadata": {},
   "outputs": [],
   "source": [
    "@app.route(\"/csv\")\n",
    "def csv():\n",
    "    datos = pd.read_csv('./static/futbol.csv')\n",
    "    df = pd.DataFrame(datos)\n",
    "    \n",
    "    #Grafica de Lineas\n",
    "    grafico_cantidad = df['Puntos de Clasificacion']\n",
    "    grafico_relacion = df[['Nombre Equipo','Puntos de Clasificacion']]\n",
    "    plt.suptitle('Lista de Equipos de Futbol Liga Femenina Española')\n",
    "    plt.ylabel('Puntos')\n",
    "    figura= plt.plot(grafico_cantidad)\n",
    "    plt.savefig(\"./static/images/graficas/lineas_csv.png\", dpi=100, bbox_inches='tight')\n",
    "    #figura = plt.gcf()\n",
    "    plt.show()\n",
    "    plt.draw()\n",
    "    \n",
    "    #Grafica de Torta\n",
    "    datosnew = df.iloc[1:6]\n",
    "    grafico_cantidad1 = datosnew['Puntos de Clasificacion']\n",
    "    grafico_relacion1 = datosnew[['Nombre Equipo','Puntos de Clasificacion']]\n",
    "    nombre_equipo = grafico_relacion1[\"Nombre Equipo\"]\n",
    "    puntos_clasificacion = grafico_relacion1[\"Puntos de Clasificacion\"]\n",
    "    explode = None \n",
    "    plt.title(\"Pocisiones Primero 6 Equipos -  Liga Femenina Española\")\n",
    "    plt.pie(puntos_clasificacion, explode=None, labels=nombre_equipo, \n",
    "    autopct='%1.1f%%', shadow=True, startangle=140)\n",
    "    plt.axis('equal')\n",
    "    plt.tight_layout()\n",
    "    plt.savefig(\"./static/images/graficas/pie_csv.png\", dpi=100, bbox_inches='tight')\n",
    "    #figura = plt.gcf()\n",
    "    plt.show()\n",
    "    plt.draw()\n",
    "    \n",
    "    #Grafico de Barras\n",
    "    fig = plt.figure('Gráfica de barras') # Figure\n",
    "    ax = fig.add_subplot(111) # Axes\n",
    "    df.groupby('Nombre Equipo')['Puntos de Clasificacion'].sum().plot(kind='barh', legend='Reverse')\n",
    "    plt.xlabel('Puntos Clasificacion ')\n",
    "    explode = None\n",
    "    plt.figure(figsize=(100,60))\n",
    "    plt.savefig(\"./static/images/graficas/barras_csv.png\", dpi=100, bbox_inches='tight')\n",
    "    plt.draw()\n",
    "    plt.show()\n",
    "    \n",
    "    return  render_template('datos_csv.php', object_list=csv_list,)   \n",
    "\n",
    "@app.route(\"/graficas_csv\")\n",
    "def graficas_csv():\n",
    "    return  render_template('graficas_csv.php')  \n"
   ]
  },
  {
   "cell_type": "markdown",
   "metadata": {},
   "source": [
    "### FUNCIONES BASES DE DATOS"
   ]
  },
  {
   "cell_type": "code",
   "execution_count": null,
   "metadata": {},
   "outputs": [],
   "source": [
    "@app.route(\"/basedatos\")\n",
    "def basedatos():\n",
    "    datos_db = []\n",
    "\n",
    "    conexion = Conexion()\n",
    "    cursor = conexion.cursor()\n",
    "    try:\n",
    "        cursor.execute(\"SELECT nombreequipos, puntuacion FROM proyecto2\")\n",
    "        for nombreequipos, puntuacion in cursor:\n",
    "            datos_db = [nombreequipos, puntuacion]\n",
    "    except mariadb.Error as error:\n",
    "        print(\"Error: {}\".format(error))\n",
    "    \n",
    "    #Guardar Registros en CSV\n",
    "    #with open('DATOS_PRUEBA_SQL.csv', 'w', newline='') as f_handle:\n",
    "     #   writer = csv.writer(f_handle)\n",
    "      #  for row in filas:\n",
    "       #     writer.writerow(row)\n",
    "    \n",
    "    conexion.close()\n",
    "       \n",
    "    return render_template('datos_sql.php', db_datos=datos_db)\n",
    "\n",
    "@app.route(\"/graficas_bd\")\n",
    "def graficas_bd():\n",
    "    return  render_template('graficas_bd.php') \n",
    "\n"
   ]
  },
  {
   "cell_type": "markdown",
   "metadata": {},
   "source": [
    "### FINAL"
   ]
  },
  {
   "cell_type": "code",
   "execution_count": null,
   "metadata": {},
   "outputs": [
    {
     "name": "stdout",
     "output_type": "stream",
     "text": [
      " * Serving Flask app \"__main__\" (lazy loading)\n",
      " * Environment: production\n",
      "   WARNING: Do not use the development server in a production environment.\n",
      "   Use a production WSGI server instead.\n",
      " * Debug mode: on\n"
     ]
    },
    {
     "name": "stderr",
     "output_type": "stream",
     "text": [
      " * Running on http://127.0.0.1:5000/ (Press CTRL+C to quit)\n",
      "127.0.0.1 - - [21/Oct/2019 23:46:36] \"GET / HTTP/1.1\" 200 -\n",
      "127.0.0.1 - - [21/Oct/2019 23:46:45] \"GET /graficas_webscraping HTTP/1.1\" 404 -\n",
      "127.0.0.1 - - [21/Oct/2019 23:46:45] \"GET /favicon.ico HTTP/1.1\" 404 -\n",
      "127.0.0.1 - - [21/Oct/2019 23:46:49] \"GET /graficas_csv HTTP/1.1\" 200 -\n",
      "127.0.0.1 - - [21/Oct/2019 23:46:49] \"GET /static/images/graficas/pie_csv.png HTTP/1.1\" 200 -\n",
      "127.0.0.1 - - [21/Oct/2019 23:46:49] \"GET /static/images/graficas/lineas_csv.png HTTP/1.1\" 200 -\n",
      "127.0.0.1 - - [21/Oct/2019 23:46:49] \"GET /static/images/graficas/barras_csv.png HTTP/1.1\" 200 -\n",
      "127.0.0.1 - - [21/Oct/2019 23:46:55] \"GET /basedatos HTTP/1.1\" 200 -\n",
      "127.0.0.1 - - [21/Oct/2019 23:46:57] \"GET /graficas_bd HTTP/1.1\" 200 -\n",
      "127.0.0.1 - - [21/Oct/2019 23:46:57] \"GET /static/images/graficas/barras_csv.jpg HTTP/1.1\" 404 -\n",
      "127.0.0.1 - - [21/Oct/2019 23:47:00] \"GET /graficas_csv HTTP/1.1\" 200 -\n",
      "127.0.0.1 - - [21/Oct/2019 23:47:08] \"GET /graficas_webscraping HTTP/1.1\" 404 -\n"
     ]
    },
    {
     "name": "stdout",
     "output_type": "stream",
     "text": [
      "['FC Barcelona Femenino', 'Deportivo de La Coruña Femenino', 'Atlético de Madrid Femenino', 'Levante UD Femenino', 'EDF Logroño', 'Rayo Vallecano Femenino'] 6\n"
     ]
    },
    {
     "name": "stderr",
     "output_type": "stream",
     "text": [
      "127.0.0.1 - - [21/Oct/2019 23:47:13] \"GET /webscraper HTTP/1.1\" 200 -\n"
     ]
    },
    {
     "name": "stdout",
     "output_type": "stream",
     "text": [
      "['FC Barcelona Femenino', 'Deportivo de La Coruña Femenino', 'Atlético de Madrid Femenino', 'Levante UD Femenino', 'EDF Logroño', 'Rayo Vallecano Femenino'] 6\n"
     ]
    }
   ],
   "source": [
    "if __name__ == \"__main__\":\n",
    "    app.run(debug=True, use_reloader=False)"
   ]
  },
  {
   "cell_type": "code",
   "execution_count": null,
   "metadata": {},
   "outputs": [],
   "source": []
  }
 ],
 "metadata": {
  "kernelspec": {
   "display_name": "Python 3",
   "language": "python",
   "name": "python3"
  },
  "language_info": {
   "codemirror_mode": {
    "name": "ipython",
    "version": 3
   },
   "file_extension": ".py",
   "mimetype": "text/x-python",
   "name": "python",
   "nbconvert_exporter": "python",
   "pygments_lexer": "ipython3",
   "version": "3.7.3"
  }
 },
 "nbformat": 4,
 "nbformat_minor": 2
}
